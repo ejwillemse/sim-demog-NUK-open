{
 "cells": [
  {
   "cell_type": "code",
   "execution_count": 10,
   "metadata": {},
   "outputs": [],
   "source": [
    "import os\n",
    "import numpy as np\n",
    "import pandas as pd\n",
    "import seaborn as sns\n",
    "from matplotlib import pyplot as plt\n",
    "import matplotlib.patches as mpatches\n",
    "\n",
    "%matplotlib inline"
   ]
  },
  {
   "cell_type": "code",
   "execution_count": 11,
   "metadata": {},
   "outputs": [],
   "source": [
    "sns.set(font_scale=1.2, style='ticks')"
   ]
  },
  {
   "cell_type": "code",
   "execution_count": 12,
   "metadata": {},
   "outputs": [],
   "source": [
    "df = pd.read_csv('population_pyramid_df.csv', index_col=0)"
   ]
  },
  {
   "cell_type": "code",
   "execution_count": 13,
   "metadata": {},
   "outputs": [
    {
     "data": {
      "text/html": [
       "<div>\n",
       "<style scoped>\n",
       "    .dataframe tbody tr th:only-of-type {\n",
       "        vertical-align: middle;\n",
       "    }\n",
       "\n",
       "    .dataframe tbody tr th {\n",
       "        vertical-align: top;\n",
       "    }\n",
       "\n",
       "    .dataframe thead th {\n",
       "        text-align: right;\n",
       "    }\n",
       "</style>\n",
       "<table border=\"1\" class=\"dataframe\">\n",
       "  <thead>\n",
       "    <tr style=\"text-align: right;\">\n",
       "      <th></th>\n",
       "      <th>year</th>\n",
       "      <th>age</th>\n",
       "      <th>male</th>\n",
       "      <th>female</th>\n",
       "    </tr>\n",
       "    <tr>\n",
       "      <th>ind</th>\n",
       "      <th></th>\n",
       "      <th></th>\n",
       "      <th></th>\n",
       "      <th></th>\n",
       "    </tr>\n",
       "  </thead>\n",
       "  <tbody>\n",
       "    <tr>\n",
       "      <th>20298</th>\n",
       "      <td>199</td>\n",
       "      <td>0</td>\n",
       "      <td>48</td>\n",
       "      <td>29</td>\n",
       "    </tr>\n",
       "    <tr>\n",
       "      <th>20299</th>\n",
       "      <td>199</td>\n",
       "      <td>1</td>\n",
       "      <td>46</td>\n",
       "      <td>35</td>\n",
       "    </tr>\n",
       "    <tr>\n",
       "      <th>20300</th>\n",
       "      <td>199</td>\n",
       "      <td>2</td>\n",
       "      <td>38</td>\n",
       "      <td>43</td>\n",
       "    </tr>\n",
       "    <tr>\n",
       "      <th>20301</th>\n",
       "      <td>199</td>\n",
       "      <td>3</td>\n",
       "      <td>40</td>\n",
       "      <td>48</td>\n",
       "    </tr>\n",
       "    <tr>\n",
       "      <th>20302</th>\n",
       "      <td>199</td>\n",
       "      <td>4</td>\n",
       "      <td>33</td>\n",
       "      <td>37</td>\n",
       "    </tr>\n",
       "  </tbody>\n",
       "</table>\n",
       "</div>"
      ],
      "text/plain": [
       "       year  age  male  female\n",
       "ind                           \n",
       "20298   199    0    48      29\n",
       "20299   199    1    46      35\n",
       "20300   199    2    38      43\n",
       "20301   199    3    40      48\n",
       "20302   199    4    33      37"
      ]
     },
     "execution_count": 13,
     "metadata": {},
     "output_type": "execute_result"
    }
   ],
   "source": [
    "temp = df[df['year']==199]\n",
    "temp.head()"
   ]
  },
  {
   "cell_type": "code",
   "execution_count": 14,
   "metadata": {},
   "outputs": [
    {
     "data": {
      "image/png": "[encoded data removed]",
      "text/plain": [
       "<Figure size 432x432 with 1 Axes>"
      ]
     },
     "metadata": {},
     "output_type": "display_data"
    }
   ],
   "source": [
    "\n",
    "a = temp['age']\n",
    "m = temp['male']\n",
    "f = temp['female']\n",
    "a3, m2, f2 = [], {}, {}\n",
    "for i,j,k in zip(a,m,f):\n",
    "    ag = int(np.floor(i/5))*5\n",
    "    if i%5==0: \n",
    "        a3.append(ag)\n",
    "        m2[ag] = 0\n",
    "        f2[ag] = 0\n",
    "    m2[ag]+=j\n",
    "    f2[ag]+=k\n",
    "m3 = [ m2[ag] for ag in a3 ]\n",
    "f3 = [ f2[ag] for ag in a3 ]\n",
    "fig, ax = plt.subplots(figsize=(6,6))\n",
    "ax.barh(a3,[ -k for k in m3 ], height=4.5, align='center', color='#448ee4')\n",
    "ax.barh(a3,[ k for k in f3 ], height=4.5, align='center', color='#fdb0c0')\n",
    "ax.set_xlim([-300,300])\n",
    "ax.set_xticks([ i*100-300 for i in range(7) ])\n",
    "ax.set_xticklabels([ abs(i*100-300) for i in range(7) ])\n",
    "ax.set_ylabel('age')\n",
    "ax.set_xlabel('population')\n",
    "ax.text(-200, 100, 'Male', ha='left', va='center')\n",
    "ax.text(200, 100, 'Female', ha='right', va='center')\n",
    "plt.savefig('pyramid_final_year.png', dpi=70)\n",
    "plt.tight_layout()"
   ]
  },
  {
   "cell_type": "code",
   "execution_count": null,
   "metadata": {},
   "outputs": [],
   "source": []
  }
 ],
 "metadata": {
  "kernelspec": {
   "display_name": "Python 3",
   "language": "python",
   "name": "python3"
  },
  "language_info": {
   "codemirror_mode": {
    "name": "ipython",
    "version": 3
   },
   "file_extension": ".py",
   "mimetype": "text/x-python",
   "name": "python",
   "nbconvert_exporter": "python",
   "pygments_lexer": "ipython3",
   "version": "3.6.8"
  }
 },
 "nbformat": 4,
 "nbformat_minor": 4
}
