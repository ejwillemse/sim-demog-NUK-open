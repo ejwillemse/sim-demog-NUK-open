{
 "cells": [
  {
   "cell_type": "code",
   "execution_count": 1,
   "metadata": {},
   "outputs": [],
   "source": [
    "import os\n",
    "import numpy as np\n",
    "import pandas as pd\n",
    "import seaborn as sns\n",
    "from matplotlib import pyplot as plt\n",
    "import matplotlib.patches as mpatches\n",
    "\n",
    "%matplotlib inline"
   ]
  },
  {
   "cell_type": "code",
   "execution_count": 2,
   "metadata": {},
   "outputs": [],
   "source": [
    "sns.set(font_scale=1.2, style='ticks')"
   ]
  },
  {
   "cell_type": "code",
   "execution_count": 3,
   "metadata": {},
   "outputs": [
    {
     "data": {
      "text/html": [
       "<div>\n",
       "<style scoped>\n",
       "    .dataframe tbody tr th:only-of-type {\n",
       "        vertical-align: middle;\n",
       "    }\n",
       "\n",
       "    .dataframe tbody tr th {\n",
       "        vertical-align: top;\n",
       "    }\n",
       "\n",
       "    .dataframe thead th {\n",
       "        text-align: right;\n",
       "    }\n",
       "</style>\n",
       "<table border=\"1\" class=\"dataframe\">\n",
       "  <thead>\n",
       "    <tr style=\"text-align: right;\">\n",
       "      <th></th>\n",
       "      <th>time</th>\n",
       "      <th>person_id</th>\n",
       "      <th>household_id</th>\n",
       "      <th>sex</th>\n",
       "      <th>age</th>\n",
       "      <th>time_birth</th>\n",
       "      <th>time_die</th>\n",
       "      <th>birth_order</th>\n",
       "      <th>adam_eve</th>\n",
       "      <th>divorced</th>\n",
       "      <th>stay_with_parents</th>\n",
       "      <th>partner_id</th>\n",
       "      <th>father_id</th>\n",
       "      <th>mother_id</th>\n",
       "      <th>children_id</th>\n",
       "      <th>dependents_id</th>\n",
       "    </tr>\n",
       "    <tr>\n",
       "      <th>ind</th>\n",
       "      <th></th>\n",
       "      <th></th>\n",
       "      <th></th>\n",
       "      <th></th>\n",
       "      <th></th>\n",
       "      <th></th>\n",
       "      <th></th>\n",
       "      <th></th>\n",
       "      <th></th>\n",
       "      <th></th>\n",
       "      <th></th>\n",
       "      <th></th>\n",
       "      <th></th>\n",
       "      <th></th>\n",
       "      <th></th>\n",
       "      <th></th>\n",
       "    </tr>\n",
       "  </thead>\n",
       "  <tbody>\n",
       "    <tr>\n",
       "      <th>0</th>\n",
       "      <td>199</td>\n",
       "      <td>21695</td>\n",
       "      <td>17067</td>\n",
       "      <td>1</td>\n",
       "      <td>100</td>\n",
       "      <td>36135</td>\n",
       "      <td>-1</td>\n",
       "      <td>1</td>\n",
       "      <td>False</td>\n",
       "      <td>True</td>\n",
       "      <td>False</td>\n",
       "      <td>NaN</td>\n",
       "      <td>18647.0</td>\n",
       "      <td>18358</td>\n",
       "      <td>23645;23931;24360;25077</td>\n",
       "      <td>NaN</td>\n",
       "    </tr>\n",
       "    <tr>\n",
       "      <th>1</th>\n",
       "      <td>199</td>\n",
       "      <td>21760</td>\n",
       "      <td>18588</td>\n",
       "      <td>1</td>\n",
       "      <td>99</td>\n",
       "      <td>36500</td>\n",
       "      <td>-1</td>\n",
       "      <td>1</td>\n",
       "      <td>False</td>\n",
       "      <td>True</td>\n",
       "      <td>False</td>\n",
       "      <td>NaN</td>\n",
       "      <td>18111.0</td>\n",
       "      <td>17674</td>\n",
       "      <td>NaN</td>\n",
       "      <td>NaN</td>\n",
       "    </tr>\n",
       "    <tr>\n",
       "      <th>2</th>\n",
       "      <td>199</td>\n",
       "      <td>21769</td>\n",
       "      <td>16311</td>\n",
       "      <td>1</td>\n",
       "      <td>99</td>\n",
       "      <td>36500</td>\n",
       "      <td>-1</td>\n",
       "      <td>1</td>\n",
       "      <td>False</td>\n",
       "      <td>True</td>\n",
       "      <td>False</td>\n",
       "      <td>NaN</td>\n",
       "      <td>18244.0</td>\n",
       "      <td>18069</td>\n",
       "      <td>24457;24634;24733;24834</td>\n",
       "      <td>NaN</td>\n",
       "    </tr>\n",
       "    <tr>\n",
       "      <th>3</th>\n",
       "      <td>199</td>\n",
       "      <td>21794</td>\n",
       "      <td>16480</td>\n",
       "      <td>1</td>\n",
       "      <td>99</td>\n",
       "      <td>36500</td>\n",
       "      <td>-1</td>\n",
       "      <td>1</td>\n",
       "      <td>False</td>\n",
       "      <td>True</td>\n",
       "      <td>False</td>\n",
       "      <td>NaN</td>\n",
       "      <td>18595.0</td>\n",
       "      <td>18769</td>\n",
       "      <td>24836;25085;25277</td>\n",
       "      <td>NaN</td>\n",
       "    </tr>\n",
       "    <tr>\n",
       "      <th>4</th>\n",
       "      <td>199</td>\n",
       "      <td>21861</td>\n",
       "      <td>17155</td>\n",
       "      <td>1</td>\n",
       "      <td>98</td>\n",
       "      <td>36865</td>\n",
       "      <td>-1</td>\n",
       "      <td>3</td>\n",
       "      <td>False</td>\n",
       "      <td>True</td>\n",
       "      <td>False</td>\n",
       "      <td>NaN</td>\n",
       "      <td>17436.0</td>\n",
       "      <td>16995</td>\n",
       "      <td>24263;24639;25278</td>\n",
       "      <td>NaN</td>\n",
       "    </tr>\n",
       "  </tbody>\n",
       "</table>\n",
       "</div>"
      ],
      "text/plain": [
       "     time  person_id  household_id  sex  age  time_birth  time_die  \\\n",
       "ind                                                                  \n",
       "0     199      21695         17067    1  100       36135        -1   \n",
       "1     199      21760         18588    1   99       36500        -1   \n",
       "2     199      21769         16311    1   99       36500        -1   \n",
       "3     199      21794         16480    1   99       36500        -1   \n",
       "4     199      21861         17155    1   98       36865        -1   \n",
       "\n",
       "     birth_order  adam_eve  divorced  stay_with_parents  partner_id  \\\n",
       "ind                                                                   \n",
       "0              1     False      True              False         NaN   \n",
       "1              1     False      True              False         NaN   \n",
       "2              1     False      True              False         NaN   \n",
       "3              1     False      True              False         NaN   \n",
       "4              3     False      True              False         NaN   \n",
       "\n",
       "     father_id  mother_id              children_id dependents_id  \n",
       "ind                                                               \n",
       "0      18647.0      18358  23645;23931;24360;25077           NaN  \n",
       "1      18111.0      17674                      NaN           NaN  \n",
       "2      18244.0      18069  24457;24634;24733;24834           NaN  \n",
       "3      18595.0      18769        24836;25085;25277           NaN  \n",
       "4      17436.0      16995        24263;24639;25278           NaN  "
      ]
     },
     "execution_count": 3,
     "metadata": {},
     "output_type": "execute_result"
    }
   ],
   "source": [
    "df = pd.read_csv('time_snapshots_population_df.csv', index_col=0)\n",
    "df.head()"
   ]
  },
  {
   "cell_type": "code",
   "execution_count": 4,
   "metadata": {},
   "outputs": [],
   "source": [
    "ladies = df[df['sex']==1]"
   ]
  },
  {
   "cell_type": "code",
   "execution_count": 5,
   "metadata": {},
   "outputs": [],
   "source": [
    "women = ladies[ladies['age']>=18]"
   ]
  },
  {
   "cell_type": "code",
   "execution_count": 6,
   "metadata": {},
   "outputs": [
    {
     "data": {
      "text/plain": [
       "2996"
      ]
     },
     "execution_count": 6,
     "metadata": {},
     "output_type": "execute_result"
    }
   ],
   "source": [
    "len(women)"
   ]
  },
  {
   "cell_type": "code",
   "execution_count": 7,
   "metadata": {},
   "outputs": [],
   "source": [
    "child_counts = []\n",
    "for i in range(len(women)):\n",
    "    row = women.iloc[i]\n",
    "    childs = str(row['children_id']).split(';')\n",
    "    child_counts.append(len(childs))\n",
    "    "
   ]
  },
  {
   "cell_type": "code",
   "execution_count": 9,
   "metadata": {},
   "outputs": [
    {
     "data": {
      "text/plain": [
       "[4, 1, 4, 3, 3, 1, 1, 2, 1, 5]"
      ]
     },
     "execution_count": 9,
     "metadata": {},
     "output_type": "execute_result"
    }
   ],
   "source": [
    "child_counts[:10]"
   ]
  },
  {
   "cell_type": "code",
   "execution_count": 10,
   "metadata": {},
   "outputs": [
    {
     "data": {
      "text/plain": [
       "1.8271028037383177"
      ]
     },
     "execution_count": 10,
     "metadata": {},
     "output_type": "execute_result"
    }
   ],
   "source": [
    "sum(child_counts)/float(len(women))"
   ]
  },
  {
   "cell_type": "code",
   "execution_count": 8,
   "metadata": {},
   "outputs": [
    {
     "data": {
      "image/png": "[encoded data removed]",
      "text/plain": [
       "<Figure size 720x504 with 1 Axes>"
      ]
     },
     "metadata": {},
     "output_type": "display_data"
    }
   ],
   "source": [
    "fig, ax = plt.subplots(figsize=(10,7))\n",
    "sns.distplot(child_counts, kde=False, bins=range(1,9), hist_kws={\"linewidth\": 3, \"alpha\": 1, \"color\": \"g\", \"rwidth\":0.95, \"align\":'left'}, ax=ax)\n",
    "ax.set_xlabel('No. children')\n",
    "ax.set_ylabel('Frequency (woman)')\n",
    "plt.tight_layout()\n",
    "plt.savefig('child_per_woman.png', dpi=72, bbox_inches='tight', format='png')\n"
   ]
  },
  {
   "cell_type": "code",
   "execution_count": 9,
   "metadata": {},
   "outputs": [
    {
     "data": {
      "image/png": "[encoded data removed]",
      "text/plain": [
       "<Figure size 720x504 with 1 Axes>"
      ]
     },
     "metadata": {},
     "output_type": "display_data"
    }
   ],
   "source": [
    "fig, ax = plt.subplots(figsize=(10,7))\n",
    "sns.distplot(child_counts, kde=False, bins=range(1,9), hist_kws={\"linewidth\": 3, \"alpha\": 1, \"color\": \"g\", \"rwidth\":0.95, \"align\":'left'}, ax=ax)\n",
    "ax.set_xlabel('No. children')\n",
    "ax.set_ylabel('Frequency (woman)')\n",
    "\n",
    "from io import BytesIO\n",
    "figfile = BytesIO()\n",
    "plt.savefig(figfile, format='png')\n",
    "figfile.seek(0)  # rewind to beginning of file\n",
    "import base64\n",
    "#figdata_png = base64.b64encode(figfile.read())\n",
    "figdata_png = base64.b64encode(figfile.getvalue())"
   ]
  },
  {
   "cell_type": "code",
   "execution_count": 32,
   "metadata": {},
   "outputs": [],
   "source": [
    "#print('<img src=\"data:image/png;base64,{}\"\\>'.format(figdata_png.decode('utf8')))"
   ]
  },
  {
   "cell_type": "code",
   "execution_count": null,
   "metadata": {},
   "outputs": [],
   "source": []
  },
  {
   "cell_type": "code",
   "execution_count": 10,
   "metadata": {},
   "outputs": [],
   "source": [
    "men = df[df['sex']==0]\n",
    "men = men[men['age']>=18]"
   ]
  },
  {
   "cell_type": "code",
   "execution_count": 11,
   "metadata": {},
   "outputs": [],
   "source": [
    "men_child_counts = []\n",
    "for i in range(len(women)):\n",
    "    row = women.iloc[i]\n",
    "    childs = str(row['children_id']).split(';')\n",
    "    men_child_counts.append(len(childs))\n",
    "    "
   ]
  },
  {
   "cell_type": "code",
   "execution_count": 12,
   "metadata": {},
   "outputs": [
    {
     "data": {
      "image/png": "[encoded data removed]",
      "text/plain": [
       "<Figure size 720x504 with 1 Axes>"
      ]
     },
     "metadata": {},
     "output_type": "display_data"
    }
   ],
   "source": [
    "fig, ax = plt.subplots(figsize=(10,7))\n",
    "sns.distplot(men_child_counts, kde=False, bins=range(1,9), hist_kws={\"linewidth\": 3, \"alpha\": 1, \"color\": \"g\", \"rwidth\":0.95, \"align\":'left'}, ax=ax)\n",
    "ax.set_xlabel('No. children')\n",
    "ax.set_ylabel('Frequency (man)')\n",
    "plt.tight_layout()\n",
    "#plt.savefig('child_per_woman.png', dpi=72, bbox_inches='tight', format='png')\n"
   ]
  },
  {
   "cell_type": "code",
   "execution_count": null,
   "metadata": {},
   "outputs": [],
   "source": []
  }
 ],
 "metadata": {
  "kernelspec": {
   "display_name": "Python 3",
   "language": "python",
   "name": "python3"
  },
  "language_info": {
   "codemirror_mode": {
    "name": "ipython",
    "version": 3
   },
   "file_extension": ".py",
   "mimetype": "text/x-python",
   "name": "python",
   "nbconvert_exporter": "python",
   "pygments_lexer": "ipython3",
   "version": "3.6.8"
  }
 },
 "nbformat": 4,
 "nbformat_minor": 4
}
