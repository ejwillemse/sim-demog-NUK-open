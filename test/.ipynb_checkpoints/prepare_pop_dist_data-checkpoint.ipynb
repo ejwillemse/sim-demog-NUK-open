{
 "cells": [
  {
   "cell_type": "code",
   "execution_count": 17,
   "metadata": {},
   "outputs": [],
   "source": [
    "import os\n",
    "import pandas as pd\n",
    "import matplotlib.pyplot as plt\n",
    "import seaborn as sns\n",
    "import random\n",
    "%matplotlib inline"
   ]
  },
  {
   "cell_type": "code",
   "execution_count": 3,
   "metadata": {},
   "outputs": [
    {
     "data": {
      "text/plain": [
       "['fertility_age_parity_probs.dat',\n",
       " 'fertility_age_probs.dat',\n",
       " 'fertility_rates.dat',\n",
       " 'age_dist.dat',\n",
       " 'hh_comp.dat',\n",
       " 'death_rates_female.dat',\n",
       " 'death_rates_male.dat']"
      ]
     },
     "execution_count": 3,
     "metadata": {},
     "output_type": "execute_result"
    }
   ],
   "source": [
    "os.listdir('data_files')"
   ]
  },
  {
   "cell_type": "code",
   "execution_count": 8,
   "metadata": {},
   "outputs": [
    {
     "data": {
      "text/plain": [
       "[15.0, 0.0034]"
      ]
     },
     "execution_count": 8,
     "metadata": {},
     "output_type": "execute_result"
    }
   ],
   "source": [
    "data = []\n",
    "with open(os.path.join('data_files', 'fertility_rates.dat')) as fread:\n",
    "    data = fread.readlines()\n",
    "data = [ da for da in data if da[0]!='#' ]\n",
    "data = [ da.strip().split(' ') for da in data ]\n",
    "data2 = []\n",
    "for da in data:\n",
    "    da2 = [ float(d) for d in da ]\n",
    "    data2.append(da2)\n",
    "data2[0]"
   ]
  },
  {
   "cell_type": "code",
   "execution_count": 12,
   "metadata": {},
   "outputs": [],
   "source": [
    "x,y = zip(*data2)"
   ]
  },
  {
   "cell_type": "code",
   "execution_count": 13,
   "metadata": {},
   "outputs": [
    {
     "data": {
      "text/plain": [
       "<BarContainer object of 35 artists>"
      ]
     },
     "execution_count": 13,
     "metadata": {},
     "output_type": "execute_result"
    },
    {
     "data": {
      "image/png": "[encoded data removed]",
      "text/plain": [
       "<Figure size 432x288 with 1 Axes>"
      ]
     },
     "metadata": {
      "needs_background": "light"
     },
     "output_type": "display_data"
    }
   ],
   "source": [
    "plt.bar(x, y)"
   ]
  },
  {
   "cell_type": "code",
   "execution_count": 15,
   "metadata": {},
   "outputs": [
    {
     "name": "stdout",
     "output_type": "stream",
     "text": [
      "[0.01347362087096, 0.0]\n"
     ]
    },
    {
     "data": {
      "text/plain": [
       "<BarContainer object of 101 artists>"
      ]
     },
     "execution_count": 15,
     "metadata": {},
     "output_type": "execute_result"
    },
    {
     "data": {
      "image/png": "[encoded data removed]",
      "text/plain": [
       "<Figure size 432x288 with 1 Axes>"
      ]
     },
     "metadata": {
      "needs_background": "light"
     },
     "output_type": "display_data"
    }
   ],
   "source": [
    "data = []\n",
    "with open(os.path.join('data_files', 'age_dist.dat')) as fread:\n",
    "    data = fread.readlines()\n",
    "data = [ da for da in data if da[0]!='#' ]\n",
    "data = [ da.strip().split(' ') for da in data ]\n",
    "data2 = []\n",
    "for da in data:\n",
    "    da2 = [ float(d) for d in da ]\n",
    "    data2.append(da2)\n",
    "print(data2[0])\n",
    "x,y = zip(*data2)\n",
    "plt.bar(y, x)"
   ]
  },
  {
   "cell_type": "code",
   "execution_count": 16,
   "metadata": {},
   "outputs": [
    {
     "data": {
      "text/plain": [
       "0.9999999999999947"
      ]
     },
     "execution_count": 16,
     "metadata": {},
     "output_type": "execute_result"
    }
   ],
   "source": [
    "sum(x)"
   ]
  },
  {
   "cell_type": "code",
   "execution_count": 69,
   "metadata": {},
   "outputs": [
    {
     "data": {
      "text/plain": [
       "<matplotlib.axes._subplots.AxesSubplot at 0x7f2866aee6d8>"
      ]
     },
     "execution_count": 69,
     "metadata": {},
     "output_type": "execute_result"
    },
    {
     "data": {
      "image/png": "[encoded data removed]",
      "text/plain": [
       "<Figure size 432x288 with 1 Axes>"
      ]
     },
     "metadata": {
      "needs_background": "light"
     },
     "output_type": "display_data"
    }
   ],
   "source": [
    "N = 10000\n",
    "age = []\n",
    "age2 = [ 1 for i in range(101) ]\n",
    "for i in range(N):\n",
    "    a = int(random.uniform(0, 100))\n",
    "    age.append(a)\n",
    "    age2[a]+=1\n",
    "N2 = sum(age2)\n",
    "age3 = [ a/N2 for a in age2 ]\n",
    "sns.distplot(age, bins=[i for i in range(101)], kde=False)"
   ]
  },
  {
   "cell_type": "code",
   "execution_count": 70,
   "metadata": {},
   "outputs": [],
   "source": [
    "lines = [ (str(age3[i]), str(i)) for i in range(len(age3)) ]\n",
    "with open(os.path.join('data_files', 'test_age_shape', 'age_dist_uniform.dat'), 'w') as fhandle:\n",
    "    for line in lines:\n",
    "        fhandle.write(' '.join(line)+'\\n')\n"
   ]
  },
  {
   "cell_type": "code",
   "execution_count": 40,
   "metadata": {},
   "outputs": [
    {
     "data": {
      "text/plain": [
       "<matplotlib.axes._subplots.AxesSubplot at 0x7f28685c0eb8>"
      ]
     },
     "execution_count": 40,
     "metadata": {},
     "output_type": "execute_result"
    },
    {
     "data": {
      "image/png": "[encoded data removed]",
      "text/plain": [
       "<Figure size 432x288 with 1 Axes>"
      ]
     },
     "metadata": {
      "needs_background": "light"
     },
     "output_type": "display_data"
    }
   ],
   "source": [
    "N = 10000\n",
    "age = []\n",
    "age2 = [ 0 for i in range(101) ]\n",
    "for i in range(N):\n",
    "    a = int(random.triangular(0, 100))\n",
    "    age.append(a)\n",
    "    age2[a]+=1\n",
    "age3 = [ a/N for a in age2 ]\n",
    "sns.distplot(age, bins=[i for i in range(101)], kde=False)"
   ]
  },
  {
   "cell_type": "code",
   "execution_count": 41,
   "metadata": {},
   "outputs": [],
   "source": [
    "lines = [ (str(age3[i]), str(i)) for i in range(len(age3)) ]\n",
    "with open(os.path.join('data_files', 'test_age_shape', 'age_dist_tri_mid.dat'), 'w') as fhandle:\n",
    "    for line in lines:\n",
    "        fhandle.write(' '.join(line)+'\\n')\n"
   ]
  },
  {
   "cell_type": "code",
   "execution_count": 42,
   "metadata": {},
   "outputs": [
    {
     "data": {
      "text/plain": [
       "<matplotlib.axes._subplots.AxesSubplot at 0x7f2868584438>"
      ]
     },
     "execution_count": 42,
     "metadata": {},
     "output_type": "execute_result"
    },
    {
     "data": {
      "image/png": "[encoded data removed]",
      "text/plain": [
       "<Figure size 432x288 with 1 Axes>"
      ]
     },
     "metadata": {
      "needs_background": "light"
     },
     "output_type": "display_data"
    }
   ],
   "source": [
    "N = 10000\n",
    "age = []\n",
    "age2 = [ 0 for i in range(101) ]\n",
    "for i in range(N):\n",
    "    a = int(random.triangular(0, 100, 0))\n",
    "    age.append(a)\n",
    "    age2[a]+=1\n",
    "age3 = [ a/N for a in age2 ]\n",
    "sns.distplot(age, bins=[i for i in range(101)], kde=False)"
   ]
  },
  {
   "cell_type": "code",
   "execution_count": 43,
   "metadata": {},
   "outputs": [],
   "source": [
    "lines = [ (str(age3[i]), str(i)) for i in range(len(age3)) ]\n",
    "with open(os.path.join('data_files', 'test_age_shape', 'age_dist_tri_low.dat'), 'w') as fhandle:\n",
    "    for line in lines:\n",
    "        fhandle.write(' '.join(line)+'\\n')\n"
   ]
  },
  {
   "cell_type": "code",
   "execution_count": 78,
   "metadata": {},
   "outputs": [
    {
     "data": {
      "text/plain": [
       "<matplotlib.axes._subplots.AxesSubplot at 0x7f2866536710>"
      ]
     },
     "execution_count": 78,
     "metadata": {},
     "output_type": "execute_result"
    },
    {
     "data": {
      "image/png": "[encoded data removed]",
      "text/plain": [
       "<Figure size 432x288 with 1 Axes>"
      ]
     },
     "metadata": {
      "needs_background": "light"
     },
     "output_type": "display_data"
    }
   ],
   "source": [
    "N = 10000\n",
    "age = []\n",
    "age2 = [ 1 for i in range(100) ]\n",
    "for i in range(N):\n",
    "    a = int(random.triangular(0, 100, 99))\n",
    "    age.append(a)\n",
    "    age2[a]+=1\n",
    "N2 = sum(age2)\n",
    "age3 = [ a/N2 for a in age2 ]\n",
    "sns.distplot(age, bins=[i for i in range(101)], kde=False)"
   ]
  },
  {
   "cell_type": "code",
   "execution_count": 79,
   "metadata": {},
   "outputs": [
    {
     "data": {
      "text/plain": [
       "100"
      ]
     },
     "execution_count": 79,
     "metadata": {},
     "output_type": "execute_result"
    }
   ],
   "source": [
    "len(age3)"
   ]
  },
  {
   "cell_type": "code",
   "execution_count": 80,
   "metadata": {},
   "outputs": [],
   "source": [
    "lines = [ (str(age3[i]), str(i)) for i in range(len(age3)) ]\n",
    "with open(os.path.join('data_files', 'test_age_shape', 'age_dist_tri_100.dat'), 'w') as fhandle:\n",
    "    for line in lines:\n",
    "        fhandle.write(' '.join(line)+'\\n')\n"
   ]
  },
  {
   "cell_type": "code",
   "execution_count": 47,
   "metadata": {},
   "outputs": [
    {
     "data": {
      "text/plain": [
       "<matplotlib.axes._subplots.AxesSubplot at 0x7f2867feeb38>"
      ]
     },
     "execution_count": 47,
     "metadata": {},
     "output_type": "execute_result"
    },
    {
     "data": {
      "image/png": "[encoded data removed]",
      "text/plain": [
       "<Figure size 432x288 with 1 Axes>"
      ]
     },
     "metadata": {
      "needs_background": "light"
     },
     "output_type": "display_data"
    }
   ],
   "source": [
    "N = 10000\n",
    "age = []\n",
    "age2 = [ 0 for i in range(101) ]\n",
    "for i in range(N):\n",
    "    a = int(random.triangular(0, 100, 20))\n",
    "    age.append(a)\n",
    "    age2[a]+=1\n",
    "age3 = [ a/N for a in age2 ]\n",
    "sns.distplot(age, bins=[i for i in range(101)], kde=False)"
   ]
  },
  {
   "cell_type": "code",
   "execution_count": 48,
   "metadata": {},
   "outputs": [],
   "source": [
    "lines = [ (str(age3[i]), str(i)) for i in range(len(age3)) ]\n",
    "with open(os.path.join('data_files', 'test_age_shape', 'age_dist_tri_20.dat'), 'w') as fhandle:\n",
    "    for line in lines:\n",
    "        fhandle.write(' '.join(line)+'\\n')\n"
   ]
  },
  {
   "cell_type": "code",
   "execution_count": 49,
   "metadata": {},
   "outputs": [
    {
     "data": {
      "text/plain": [
       "<matplotlib.axes._subplots.AxesSubplot at 0x7f2867ed3240>"
      ]
     },
     "execution_count": 49,
     "metadata": {},
     "output_type": "execute_result"
    },
    {
     "data": {
      "image/png": "[encoded data removed]",
      "text/plain": [
       "<Figure size 432x288 with 1 Axes>"
      ]
     },
     "metadata": {
      "needs_background": "light"
     },
     "output_type": "display_data"
    }
   ],
   "source": [
    "N = 10000\n",
    "age = []\n",
    "age2 = [ 0 for i in range(101) ]\n",
    "for i in range(N):\n",
    "    a = int(random.triangular(0, 100, 40))\n",
    "    age.append(a)\n",
    "    age2[a]+=1\n",
    "age3 = [ a/N for a in age2 ]\n",
    "lines = [ (str(age3[i]), str(i)) for i in range(len(age3)) ]\n",
    "with open(os.path.join('data_files', 'test_age_shape', 'age_dist_tri_40.dat'), 'w') as fhandle:\n",
    "    for line in lines:\n",
    "        fhandle.write(' '.join(line)+'\\n')\n",
    "\n",
    "sns.distplot(age, bins=[i for i in range(101)], kde=False)"
   ]
  },
  {
   "cell_type": "code",
   "execution_count": 50,
   "metadata": {},
   "outputs": [
    {
     "data": {
      "text/plain": [
       "<matplotlib.axes._subplots.AxesSubplot at 0x7f2868185470>"
      ]
     },
     "execution_count": 50,
     "metadata": {},
     "output_type": "execute_result"
    },
    {
     "data": {
      "image/png": "[encoded data removed]",
      "text/plain": [
       "<Figure size 432x288 with 1 Axes>"
      ]
     },
     "metadata": {
      "needs_background": "light"
     },
     "output_type": "display_data"
    }
   ],
   "source": [
    "N = 10000\n",
    "age = []\n",
    "age2 = [ 0 for i in range(101) ]\n",
    "for i in range(N):\n",
    "    a = int(random.triangular(0, 100, 60))\n",
    "    age.append(a)\n",
    "    age2[a]+=1\n",
    "age3 = [ a/N for a in age2 ]\n",
    "lines = [ (str(age3[i]), str(i)) for i in range(len(age3)) ]\n",
    "with open(os.path.join('data_files', 'test_age_shape', 'age_dist_tri_60.dat'), 'w') as fhandle:\n",
    "    for line in lines:\n",
    "        fhandle.write(' '.join(line)+'\\n')\n",
    "\n",
    "sns.distplot(age, bins=[i for i in range(101)], kde=False)"
   ]
  },
  {
   "cell_type": "code",
   "execution_count": 51,
   "metadata": {},
   "outputs": [
    {
     "data": {
      "text/plain": [
       "<matplotlib.axes._subplots.AxesSubplot at 0x7f2867d31be0>"
      ]
     },
     "execution_count": 51,
     "metadata": {},
     "output_type": "execute_result"
    },
    {
     "data": {
      "image/png": "[encoded data removed]",
      "text/plain": [
       "<Figure size 432x288 with 1 Axes>"
      ]
     },
     "metadata": {
      "needs_background": "light"
     },
     "output_type": "display_data"
    }
   ],
   "source": [
    "N = 10000\n",
    "age = []\n",
    "age2 = [ 0 for i in range(101) ]\n",
    "for i in range(N):\n",
    "    a = int(random.triangular(0, 100, 80))\n",
    "    age.append(a)\n",
    "    age2[a]+=1\n",
    "age3 = [ a/N for a in age2 ]\n",
    "lines = [ (str(age3[i]), str(i)) for i in range(len(age3)) ]\n",
    "with open(os.path.join('data_files', 'test_age_shape', 'age_dist_tri_80.dat'), 'w') as fhandle:\n",
    "    for line in lines:\n",
    "        fhandle.write(' '.join(line)+'\\n')\n",
    "\n",
    "sns.distplot(age, bins=[i for i in range(101)], kde=False)"
   ]
  },
  {
   "cell_type": "code",
   "execution_count": 54,
   "metadata": {},
   "outputs": [
    {
     "data": {
      "text/plain": [
       "<matplotlib.axes._subplots.AxesSubplot at 0x7f2867940748>"
      ]
     },
     "execution_count": 54,
     "metadata": {},
     "output_type": "execute_result"
    },
    {
     "data": {
      "image/png": "[encoded data removed]",
      "text/plain": [
       "<Figure size 432x288 with 1 Axes>"
      ]
     },
     "metadata": {
      "needs_background": "light"
     },
     "output_type": "display_data"
    }
   ],
   "source": [
    "N = 10000\n",
    "age = []\n",
    "age2 = [ 0 for i in range(101) ]\n",
    "for i in range(N):\n",
    "    a = -1\n",
    "    while not(0<=a<=100):\n",
    "        a = int(random.gauss(70, 20))\n",
    "    age.append(a)\n",
    "    age2[a]+=1\n",
    "age3 = [ a/N for a in age2 ]\n",
    "lines = [ (str(age3[i]), str(i)) for i in range(len(age3)) ]\n",
    "with open(os.path.join('data_files', 'test_age_shape', 'age_dist_gau_70_20.dat'), 'w') as fhandle:\n",
    "    for line in lines:\n",
    "        fhandle.write(' '.join(line)+'\\n')\n",
    "\n",
    "sns.distplot(age, bins=[i for i in range(102)], kde=False)"
   ]
  },
  {
   "cell_type": "code",
   "execution_count": 55,
   "metadata": {},
   "outputs": [
    {
     "data": {
      "text/plain": [
       "<matplotlib.axes._subplots.AxesSubplot at 0x7f28677d5978>"
      ]
     },
     "execution_count": 55,
     "metadata": {},
     "output_type": "execute_result"
    },
    {
     "data": {
      "image/png": "[encoded data removed]",
      "text/plain": [
       "<Figure size 432x288 with 1 Axes>"
      ]
     },
     "metadata": {
      "needs_background": "light"
     },
     "output_type": "display_data"
    }
   ],
   "source": [
    "N = 10000\n",
    "age = []\n",
    "age2 = [ 0 for i in range(101) ]\n",
    "for i in range(N):\n",
    "    a = -1\n",
    "    while not(0<=a<=100):\n",
    "        a = int(random.gauss(70, 10))\n",
    "    age.append(a)\n",
    "    age2[a]+=1\n",
    "age3 = [ a/N for a in age2 ]\n",
    "lines = [ (str(age3[i]), str(i)) for i in range(len(age3)) ]\n",
    "with open(os.path.join('data_files', 'test_age_shape', 'age_dist_gau_70_10.dat'), 'w') as fhandle:\n",
    "    for line in lines:\n",
    "        fhandle.write(' '.join(line)+'\\n')\n",
    "\n",
    "sns.distplot(age, bins=[i for i in range(102)], kde=False)"
   ]
  },
  {
   "cell_type": "code",
   "execution_count": 59,
   "metadata": {},
   "outputs": [
    {
     "data": {
      "text/plain": [
       "<matplotlib.axes._subplots.AxesSubplot at 0x7f2867243ac8>"
      ]
     },
     "execution_count": 59,
     "metadata": {},
     "output_type": "execute_result"
    },
    {
     "data": {
      "image/png": "[encoded data removed]",
      "text/plain": [
       "<Figure size 432x288 with 1 Axes>"
      ]
     },
     "metadata": {
      "needs_background": "light"
     },
     "output_type": "display_data"
    }
   ],
   "source": [
    "N = 10000\n",
    "age = []\n",
    "age2 = [ 0 for i in range(101) ]\n",
    "for i in range(N):\n",
    "    a = -1\n",
    "    while not(0<=a<=100):\n",
    "        a = int(random.gauss(30, 50))\n",
    "    age.append(a)\n",
    "    age2[a]+=1\n",
    "age3 = [ a/N for a in age2 ]\n",
    "lines = [ (str(age3[i]), str(i)) for i in range(len(age3)) ]\n",
    "with open(os.path.join('data_files', 'test_age_shape', 'age_dist_gau_30_50.dat'), 'w') as fhandle:\n",
    "    for line in lines:\n",
    "        fhandle.write(' '.join(line)+'\\n')\n",
    "\n",
    "sns.distplot(age, bins=[i for i in range(102)], kde=False)"
   ]
  },
  {
   "cell_type": "code",
   "execution_count": null,
   "metadata": {},
   "outputs": [],
   "source": []
  }
 ],
 "metadata": {
  "kernelspec": {
   "display_name": "Python 3",
   "language": "python",
   "name": "python3"
  },
  "language_info": {
   "codemirror_mode": {
    "name": "ipython",
    "version": 3
   },
   "file_extension": ".py",
   "mimetype": "text/x-python",
   "name": "python",
   "nbconvert_exporter": "python",
   "pygments_lexer": "ipython3",
   "version": "3.6.8"
  }
 },
 "nbformat": 4,
 "nbformat_minor": 4
}
