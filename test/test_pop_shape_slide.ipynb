{
 "cells": [
  {
   "cell_type": "markdown",
   "metadata": {
    "slideshow": {
     "slide_type": "slide"
    }
   },
   "source": [
    "# Testing the initial population distribution  \n",
    "\n",
    "A discussion on 2019/08/05, Benny"
   ]
  },
  {
   "cell_type": "markdown",
   "metadata": {
    "slideshow": {
     "slide_type": "slide"
    }
   },
   "source": [
    "## The input shape of the population distribution\n",
    "\n",
    "![pop shape](test_pop_data_dist.png \"Population distribution shape\")\n"
   ]
  },
  {
   "cell_type": "markdown",
   "metadata": {
    "slideshow": {
     "slide_type": "slide"
    }
   },
   "source": [
    "## The *initial* population pyramid\n",
    "\n",
    "![pop pyramid init](test_pop_pyramid_initial.png \"initial population pyramid\")\n",
    "time=0"
   ]
  },
  {
   "cell_type": "markdown",
   "metadata": {
    "slideshow": {
     "slide_type": "subslide"
    }
   },
   "source": [
    "## The *after Burn-Period* population pyramid\n",
    "\n",
    "![pop pyramid burned](test_pop_pyramid_after_burn_period.png \"burned population pyramid\")\n",
    "time=100"
   ]
  },
  {
   "cell_type": "markdown",
   "metadata": {
    "slideshow": {
     "slide_type": "subslide"
    }
   },
   "source": [
    "## The *final* population pyramid\n",
    "\n",
    "![pop pyramid final](test_pop_pyramid_year200.png \"final population pyramid\")\n",
    "time=200"
   ]
  },
  {
   "cell_type": "markdown",
   "metadata": {
    "slideshow": {
     "slide_type": "slide"
    }
   },
   "source": [
    "## The household structure \n",
    "##### for default input\n",
    "<div style=\"width: 1000px; height: 600px;\">\n",
    "<img src=\"household_type_countb.png\" width=\"70%\" height=\"70%\" \\>\n",
    "</div>\n",
    "time=200\n"
   ]
  },
  {
   "cell_type": "markdown",
   "metadata": {
    "slideshow": {
     "slide_type": "slide"
    }
   },
   "source": [
    "## The household structure \n",
    "##### for the 8 population distribution\n",
    "\n",
    "![pop pyramid final](test_pop_household_structure.png \"final population structure\")\n",
    "time=200"
   ]
  },
  {
   "cell_type": "code",
   "execution_count": null,
   "metadata": {
    "slideshow": {
     "slide_type": "skip"
    }
   },
   "outputs": [],
   "source": []
  }
 ],
 "metadata": {
  "kernelspec": {
   "display_name": "Python 3",
   "language": "python",
   "name": "python3"
  },
  "language_info": {
   "codemirror_mode": {
    "name": "ipython",
    "version": 3
   },
   "file_extension": ".py",
   "mimetype": "text/x-python",
   "name": "python",
   "nbconvert_exporter": "python",
   "pygments_lexer": "ipython3",
   "version": "3.6.8"
  }
 },
 "nbformat": 4,
 "nbformat_minor": 4
}
