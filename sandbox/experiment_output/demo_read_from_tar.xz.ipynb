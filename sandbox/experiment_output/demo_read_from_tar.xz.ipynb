{
 "cells": [
  {
   "cell_type": "code",
   "execution_count": 9,
   "metadata": {},
   "outputs": [],
   "source": [
    "#import lzma\n",
    "#import libarchive.public\n",
    "import  tarfile\n",
    "import sys\n",
    "import os\n",
    "import pandas as pd"
   ]
  },
  {
   "cell_type": "code",
   "execution_count": 22,
   "metadata": {},
   "outputs": [],
   "source": [
    "def check_files_in_txz(fp):\n",
    "    tar = tarfile.open(fp)\n",
    "    members = tar.getmembers()\n",
    "    tar.close()\n",
    "    return [ str(mem) for mem in members ]\n",
    "\n",
    "def read_df_from_txz(fp, target_file):\n",
    "    content = None\n",
    "    tar = tarfile.open(fp)\n",
    "    members = tar.getmembers()\n",
    "    for mem in members:\n",
    "        if target_file in str(mem):\n",
    "            f = tar.extractfile(mem)\n",
    "            #content=f.read()\n",
    "            content = pd.read_csv(f)\n",
    "            f.close()\n",
    "    tar.members = []\n",
    "    tar.close()\n",
    "    return content"
   ]
  },
  {
   "cell_type": "code",
   "execution_count": 23,
   "metadata": {},
   "outputs": [],
   "source": [
    "fp = \"compress/_run_output-couple_prob-couple_prob_0.0-nonburn_0.005_s152745_y2000.tar.xz\""
   ]
  },
  {
   "cell_type": "code",
   "execution_count": 24,
   "metadata": {},
   "outputs": [
    {
     "data": {
      "text/plain": [
       "[\"<TarInfo '_run_output/couple_prob/couple_prob_0.0/nonburn_0.005_s152745_y2000' at 0x7fe46009f8e0>\",\n",
       " \"<TarInfo '_run_output/couple_prob/couple_prob_0.0/nonburn_0.005_s152745_y2000/thumbnails' at 0x7fe464aed818>\",\n",
       " \"<TarInfo '_run_output/couple_prob/couple_prob_0.0/nonburn_0.005_s152745_y2000/stored_population.csv' at 0x7fe464aed4f8>\",\n",
       " \"<TarInfo '_run_output/couple_prob/couple_prob_0.0/nonburn_0.005_s152745_y2000/stored_household.csv' at 0x7fe464aed430>\",\n",
       " \"<TarInfo '_run_output/couple_prob/couple_prob_0.0/nonburn_0.005_s152745_y2000/household_size_dynamic.csv' at 0x7fe464aed1d8>\",\n",
       " \"<TarInfo '_run_output/couple_prob/couple_prob_0.0/nonburn_0.005_s152745_y2000/household_structure_dynamic.csv' at 0x7fe464aed5c0>\",\n",
       " \"<TarInfo '_run_output/couple_prob/couple_prob_0.0/nonburn_0.005_s152745_y2000/yearly_summary.csv' at 0x7fe464aed688>\",\n",
       " \"<TarInfo '_run_output/couple_prob/couple_prob_0.0/nonburn_0.005_s152745_y2000/stored_sex_age_stats.csv' at 0x7fe464aedd90>\"]"
      ]
     },
     "execution_count": 24,
     "metadata": {},
     "output_type": "execute_result"
    }
   ],
   "source": [
    "check_files_in_txz(fp)"
   ]
  },
  {
   "cell_type": "code",
   "execution_count": 25,
   "metadata": {},
   "outputs": [
    {
     "data": {
      "text/html": [
       "<div>\n",
       "<style scoped>\n",
       "    .dataframe tbody tr th:only-of-type {\n",
       "        vertical-align: middle;\n",
       "    }\n",
       "\n",
       "    .dataframe tbody tr th {\n",
       "        vertical-align: top;\n",
       "    }\n",
       "\n",
       "    .dataframe thead th {\n",
       "        text-align: right;\n",
       "    }\n",
       "</style>\n",
       "<table border=\"1\" class=\"dataframe\">\n",
       "  <thead>\n",
       "    <tr style=\"text-align: right;\">\n",
       "      <th></th>\n",
       "      <th>ind</th>\n",
       "      <th>time</th>\n",
       "      <th>size_up</th>\n",
       "      <th>size_down</th>\n",
       "      <th>new_household</th>\n",
       "      <th>sub_total</th>\n",
       "    </tr>\n",
       "  </thead>\n",
       "  <tbody>\n",
       "    <tr>\n",
       "      <th>0</th>\n",
       "      <td>0</td>\n",
       "      <td>1</td>\n",
       "      <td>81</td>\n",
       "      <td>173</td>\n",
       "      <td>43</td>\n",
       "      <td>297</td>\n",
       "    </tr>\n",
       "    <tr>\n",
       "      <th>1</th>\n",
       "      <td>1</td>\n",
       "      <td>2</td>\n",
       "      <td>76</td>\n",
       "      <td>182</td>\n",
       "      <td>61</td>\n",
       "      <td>319</td>\n",
       "    </tr>\n",
       "    <tr>\n",
       "      <th>2</th>\n",
       "      <td>2</td>\n",
       "      <td>3</td>\n",
       "      <td>82</td>\n",
       "      <td>188</td>\n",
       "      <td>62</td>\n",
       "      <td>332</td>\n",
       "    </tr>\n",
       "    <tr>\n",
       "      <th>3</th>\n",
       "      <td>3</td>\n",
       "      <td>4</td>\n",
       "      <td>75</td>\n",
       "      <td>197</td>\n",
       "      <td>63</td>\n",
       "      <td>335</td>\n",
       "    </tr>\n",
       "    <tr>\n",
       "      <th>4</th>\n",
       "      <td>4</td>\n",
       "      <td>5</td>\n",
       "      <td>69</td>\n",
       "      <td>177</td>\n",
       "      <td>52</td>\n",
       "      <td>298</td>\n",
       "    </tr>\n",
       "  </tbody>\n",
       "</table>\n",
       "</div>"
      ],
      "text/plain": [
       "   ind  time  size_up  size_down  new_household  sub_total\n",
       "0    0     1       81        173             43        297\n",
       "1    1     2       76        182             61        319\n",
       "2    2     3       82        188             62        332\n",
       "3    3     4       75        197             63        335\n",
       "4    4     5       69        177             52        298"
      ]
     },
     "execution_count": 25,
     "metadata": {},
     "output_type": "execute_result"
    }
   ],
   "source": [
    "df = read_df_from_txz(fp, 'household_size_dynamic.csv')\n",
    "df.head()"
   ]
  },
  {
   "cell_type": "code",
   "execution_count": null,
   "metadata": {},
   "outputs": [],
   "source": []
  },
  {
   "cell_type": "markdown",
   "metadata": {},
   "source": [
    "# use this"
   ]
  },
  {
   "cell_type": "code",
   "execution_count": 26,
   "metadata": {},
   "outputs": [],
   "source": [
    "import read_txz as txz"
   ]
  },
  {
   "cell_type": "code",
   "execution_count": 28,
   "metadata": {},
   "outputs": [],
   "source": [
    "fp = \"compress/_run_output-couple_prob-couple_prob_0.0-nonburn_0.005_s152745_y2000.tar.xz\""
   ]
  },
  {
   "cell_type": "code",
   "execution_count": 29,
   "metadata": {},
   "outputs": [
    {
     "data": {
      "text/plain": [
       "[\"<TarInfo '_run_output/couple_prob/couple_prob_0.0/nonburn_0.005_s152745_y2000' at 0x7fe46009f688>\",\n",
       " \"<TarInfo '_run_output/couple_prob/couple_prob_0.0/nonburn_0.005_s152745_y2000/thumbnails' at 0x7fe46009f750>\",\n",
       " \"<TarInfo '_run_output/couple_prob/couple_prob_0.0/nonburn_0.005_s152745_y2000/stored_population.csv' at 0x7fe46009fb38>\",\n",
       " \"<TarInfo '_run_output/couple_prob/couple_prob_0.0/nonburn_0.005_s152745_y2000/stored_household.csv' at 0x7fe46009f8e0>\",\n",
       " \"<TarInfo '_run_output/couple_prob/couple_prob_0.0/nonburn_0.005_s152745_y2000/household_size_dynamic.csv' at 0x7fe464aed5c0>\",\n",
       " \"<TarInfo '_run_output/couple_prob/couple_prob_0.0/nonburn_0.005_s152745_y2000/household_structure_dynamic.csv' at 0x7fe464aed818>\",\n",
       " \"<TarInfo '_run_output/couple_prob/couple_prob_0.0/nonburn_0.005_s152745_y2000/yearly_summary.csv' at 0x7fe464aed4f8>\",\n",
       " \"<TarInfo '_run_output/couple_prob/couple_prob_0.0/nonburn_0.005_s152745_y2000/stored_sex_age_stats.csv' at 0x7fe464aed430>\"]"
      ]
     },
     "execution_count": 29,
     "metadata": {},
     "output_type": "execute_result"
    }
   ],
   "source": [
    "txz.check_files_in_txz(fp)"
   ]
  },
  {
   "cell_type": "code",
   "execution_count": 30,
   "metadata": {},
   "outputs": [
    {
     "data": {
      "text/html": [
       "<div>\n",
       "<style scoped>\n",
       "    .dataframe tbody tr th:only-of-type {\n",
       "        vertical-align: middle;\n",
       "    }\n",
       "\n",
       "    .dataframe tbody tr th {\n",
       "        vertical-align: top;\n",
       "    }\n",
       "\n",
       "    .dataframe thead th {\n",
       "        text-align: right;\n",
       "    }\n",
       "</style>\n",
       "<table border=\"1\" class=\"dataframe\">\n",
       "  <thead>\n",
       "    <tr style=\"text-align: right;\">\n",
       "      <th></th>\n",
       "      <th>ind</th>\n",
       "      <th>time</th>\n",
       "      <th>size_up</th>\n",
       "      <th>size_down</th>\n",
       "      <th>new_household</th>\n",
       "      <th>sub_total</th>\n",
       "    </tr>\n",
       "  </thead>\n",
       "  <tbody>\n",
       "    <tr>\n",
       "      <th>0</th>\n",
       "      <td>0</td>\n",
       "      <td>1</td>\n",
       "      <td>81</td>\n",
       "      <td>173</td>\n",
       "      <td>43</td>\n",
       "      <td>297</td>\n",
       "    </tr>\n",
       "    <tr>\n",
       "      <th>1</th>\n",
       "      <td>1</td>\n",
       "      <td>2</td>\n",
       "      <td>76</td>\n",
       "      <td>182</td>\n",
       "      <td>61</td>\n",
       "      <td>319</td>\n",
       "    </tr>\n",
       "    <tr>\n",
       "      <th>2</th>\n",
       "      <td>2</td>\n",
       "      <td>3</td>\n",
       "      <td>82</td>\n",
       "      <td>188</td>\n",
       "      <td>62</td>\n",
       "      <td>332</td>\n",
       "    </tr>\n",
       "    <tr>\n",
       "      <th>3</th>\n",
       "      <td>3</td>\n",
       "      <td>4</td>\n",
       "      <td>75</td>\n",
       "      <td>197</td>\n",
       "      <td>63</td>\n",
       "      <td>335</td>\n",
       "    </tr>\n",
       "    <tr>\n",
       "      <th>4</th>\n",
       "      <td>4</td>\n",
       "      <td>5</td>\n",
       "      <td>69</td>\n",
       "      <td>177</td>\n",
       "      <td>52</td>\n",
       "      <td>298</td>\n",
       "    </tr>\n",
       "  </tbody>\n",
       "</table>\n",
       "</div>"
      ],
      "text/plain": [
       "   ind  time  size_up  size_down  new_household  sub_total\n",
       "0    0     1       81        173             43        297\n",
       "1    1     2       76        182             61        319\n",
       "2    2     3       82        188             62        332\n",
       "3    3     4       75        197             63        335\n",
       "4    4     5       69        177             52        298"
      ]
     },
     "execution_count": 30,
     "metadata": {},
     "output_type": "execute_result"
    }
   ],
   "source": [
    "df = txz.read_df_from_txz(fp, 'household_size_dynamic.csv')\n",
    "df.head()"
   ]
  },
  {
   "cell_type": "code",
   "execution_count": null,
   "metadata": {},
   "outputs": [],
   "source": []
  }
 ],
 "metadata": {
  "kernelspec": {
   "display_name": "Python 3",
   "language": "python",
   "name": "python3"
  },
  "language_info": {
   "codemirror_mode": {
    "name": "ipython",
    "version": 3
   },
   "file_extension": ".py",
   "mimetype": "text/x-python",
   "name": "python",
   "nbconvert_exporter": "python",
   "pygments_lexer": "ipython3",
   "version": "3.7.3"
  }
 },
 "nbformat": 4,
 "nbformat_minor": 4
}
