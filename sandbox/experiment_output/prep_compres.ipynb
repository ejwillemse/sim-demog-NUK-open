{
 "cells": [
  {
   "cell_type": "code",
   "execution_count": 2,
   "metadata": {},
   "outputs": [],
   "source": [
    "import os"
   ]
  },
  {
   "cell_type": "code",
   "execution_count": 2,
   "metadata": {},
   "outputs": [
    {
     "name": "stdout",
     "output_type": "stream",
     "text": [
      "['divorce_prob', 'leaving_prob', 'couple_prob']\n"
     ]
    }
   ],
   "source": [
    "print(os.listdir('_run_output'))"
   ]
  },
  {
   "cell_type": "code",
   "execution_count": 18,
   "metadata": {},
   "outputs": [],
   "source": [
    "basedirs = ['_run_output', '_run_output_2', '_run_output_3']\n",
    "basename = [ 'detail_1', 'detail_2', 'detail_3' ]\n",
    "#this_cat = 'couple_prob'\n",
    "for bdir,bname in zip(basedirs, basename):\n",
    "    #print(sorted(os.listdir(os.path.join(bdir))))\n",
    "    for cdir in sorted(os.listdir(os.path.join(bdir))):\n",
    "        #if cdir!=this_cat: continue\n",
    "        cmd_list = []\n",
    "        for pdir in sorted(os.listdir(os.path.join(bdir, cdir))):\n",
    "            for sdir in sorted(os.listdir(os.path.join(bdir, cdir, pdir))):\n",
    "                tdir = os.path.join(bdir, cdir, pdir, sdir)\n",
    "                #print(tdir)\n",
    "                target_zip = tdir.replace('/', '-')+'.7z'\n",
    "                cmd_list.append('7z a compress/{} {} &&'.format(target_zip, tdir))\n",
    "        fout = 'compress_'+bname+'_'+cdir+'.sh'\n",
    "        with open(fout, 'w') as fhand:\n",
    "            for line in cmd_list[:-1]:\n",
    "                fhand.write(line+'\\n')\n",
    "            fhand.write(cmd_list[-1][:-2]+'\\n')"
   ]
  },
  {
   "cell_type": "code",
   "execution_count": 4,
   "metadata": {},
   "outputs": [],
   "source": [
    "basedirs = ['_run_output', '_run_output_2', '_run_output_3']\n",
    "basename = [ 'detail_1', 'detail_2', 'detail_3' ]\n",
    "#this_cat = 'couple_prob'\n",
    "for bdir,bname in zip(basedirs, basename):\n",
    "    #print(sorted(os.listdir(os.path.join(bdir))))\n",
    "    for cdir in sorted(os.listdir(os.path.join('compress', bdir))):\n",
    "        #if cdir!=this_cat: continue\n",
    "        cmd_list = []\n",
    "        for pdir in sorted(os.listdir(os.path.join('compress', bdir, cdir))):\n",
    "            for sdir in sorted(os.listdir(os.path.join('compress', bdir, cdir, pdir))):\n",
    "                tdir = os.path.join(bdir, cdir, pdir, sdir)\n",
    "                #print(tdir)\n",
    "                target_zip = tdir.replace('/', '-')+'.tar.xz'\n",
    "                compress_str = 'tar -c --xz -f {} {} &&'.format(target_zip, tdir)\n",
    "                cmd_list.append(compress_str)\n",
    "        fout = 'compress_'+bname+'_'+cdir+'.sh'\n",
    "        with open(fout, 'w') as fhand:\n",
    "            for line in cmd_list[:-1]:\n",
    "                fhand.write(line+'\\n')\n",
    "            fhand.write(cmd_list[-1][:-2]+'\\n')"
   ]
  },
  {
   "cell_type": "code",
   "execution_count": 7,
   "metadata": {},
   "outputs": [],
   "source": [
    "basedirs = ['_run_output', '_run_output_2', '_run_output_3']\n",
    "basename = [ 'detail_1', 'detail_2', 'detail_3' ]\n",
    "#this_cat = 'couple_prob'\n",
    "cmd_list = []\n",
    "for bdir,bname in zip(basedirs, basename):\n",
    "    #print(sorted(os.listdir(os.path.join(bdir))))\n",
    "    for cdir in sorted(os.listdir(os.path.join('compress', bdir))):\n",
    "        #if cdir!=this_cat: continue\n",
    "        for pdir in sorted(os.listdir(os.path.join('compress', bdir, cdir))):\n",
    "            for sdir in sorted(os.listdir(os.path.join('compress', bdir, cdir, pdir))):\n",
    "                tdir = os.path.join(bdir, cdir, pdir, sdir)\n",
    "                #print(tdir)\n",
    "                target_zip = tdir.replace('/', '-')+'.tar.xz'\n",
    "                compress_str = 'tar -c --xz -f {} {} &&'.format(target_zip, tdir)\n",
    "                cmd_list.append(compress_str)\n",
    "fout = 'compress_all.sh'\n",
    "with open(fout, 'w') as fhand:\n",
    "    ii = 1\n",
    "    for line in cmd_list[:-1]:\n",
    "        if ii%4!=0:\n",
    "            fhand.write(line.replace('&&','&')+'\\n')\n",
    "        else:\n",
    "            fhand.write(line+'\\n')\n",
    "        ii+=1\n",
    "    fhand.write(cmd_list[-1].replace('&','')+'\\n')"
   ]
  },
  {
   "cell_type": "code",
   "execution_count": null,
   "metadata": {},
   "outputs": [],
   "source": []
  }
 ],
 "metadata": {
  "kernelspec": {
   "display_name": "Python 3",
   "language": "python",
   "name": "python3"
  },
  "language_info": {
   "codemirror_mode": {
    "name": "ipython",
    "version": 3
   },
   "file_extension": ".py",
   "mimetype": "text/x-python",
   "name": "python",
   "nbconvert_exporter": "python",
   "pygments_lexer": "ipython3",
   "version": "3.6.8"
  }
 },
 "nbformat": 4,
 "nbformat_minor": 4
}
